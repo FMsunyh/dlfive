{
 "cells": [
  {
   "cell_type": "markdown",
   "metadata": {},
   "source": [
    "## Variables\n",
    "\n",
    "A TensorFlow variable is the best way to represent shared, persistent state manipulated by your program.\n",
    "\n",
    "Variables are manipulated via the tf.Variable class. A tf.Variable represents a tensor whose value can be changed by running ops on it. Unlike tf.Tensor objects, a tf.Variable exists outside the context of a single session.run call.\n",
    "\n",
    "Note that:\n",
    "* class tf.Variable. that is a tensor\n",
    "\n",
    "* tf.Variable 独立存在于session.run 之外.\n",
    "* 多个tf.Session(多个worker), 同步共享 tf.Variable"
   ]
  },
  {
   "cell_type": "code",
   "execution_count": 1,
   "metadata": {
    "collapsed": true
   },
   "outputs": [],
   "source": [
    "import os\n",
    "import tensorflow as tf\n",
    "os.environ[\"CUDA_VISIBLE_DEVICES\"] = \"\"\n",
    "sess = tf.InteractiveSession()"
   ]
  },
  {
   "cell_type": "markdown",
   "metadata": {},
   "source": [
    "## Creating a Variable\n",
    "*  **tf.get_variable function**\n",
    "    "
   ]
  },
  {
   "cell_type": "code",
   "execution_count": 2,
   "metadata": {
    "collapsed": false
   },
   "outputs": [],
   "source": [
    "# tf.get_variable\n",
    "my_variable = tf.get_variable(\"my_variable\", [1, 2, 3])\n",
    "# print(my_variable)\n",
    "# default value:\n",
    "# dtype: tf.float32\n",
    "# initial_value: tf.glorot_uniform_initializer"
   ]
  },
  {
   "cell_type": "code",
   "execution_count": 3,
   "metadata": {
    "collapsed": false
   },
   "outputs": [
    {
     "name": "stdout",
     "output_type": "stream",
     "text": [
      "<tf.Variable 'my_variable:0' shape=(1, 2, 3) dtype=float32_ref>\n"
     ]
    }
   ],
   "source": [
    "print(my_variable)"
   ]
  },
  {
   "cell_type": "code",
   "execution_count": 4,
   "metadata": {
    "collapsed": true
   },
   "outputs": [],
   "source": [
    "# specify initial value\n",
    "my_init_variable = tf.get_variable(\"my_init_variable\", shape=[1, 2, 3], dtype=tf.int32, initializer=tf.zeros_initializer)"
   ]
  },
  {
   "cell_type": "code",
   "execution_count": 5,
   "metadata": {
    "collapsed": false
   },
   "outputs": [
    {
     "name": "stdout",
     "output_type": "stream",
     "text": [
      "<tf.Variable 'my_init_variable:0' shape=(1, 2, 3) dtype=int32_ref>\n"
     ]
    }
   ],
   "source": [
    "print(my_init_variable)"
   ]
  },
  {
   "cell_type": "code",
   "execution_count": 6,
   "metadata": {
    "collapsed": true
   },
   "outputs": [],
   "source": [
    "other_variable = tf.get_variable(\"other_variable\", dtype=tf.int32, initializer=tf.constant([32, 42]))"
   ]
  },
  {
   "cell_type": "code",
   "execution_count": 7,
   "metadata": {
    "collapsed": false
   },
   "outputs": [
    {
     "name": "stdout",
     "output_type": "stream",
     "text": [
      "<tf.Variable 'other_variable:0' shape=(2,) dtype=int32_ref>\n",
      "[32 42]\n"
     ]
    }
   ],
   "source": [
    "print(other_variable)\n",
    "other_variable.initializer.run()\n",
    "print(other_variable.eval())"
   ]
  },
  {
   "cell_type": "markdown",
   "metadata": {},
   "source": [
    "### Variable collections\n",
    "* tf.GraphKeys.GLOBAL_VARIABLES --- variables that can be shared across multiple devices\n",
    "* tf.GraphKeys.TRAINABLE_VARIABLES --- variables for which TensorFlow will calculate gradients.\n",
    "* tf.GraphKeys.LOCAL_VARIABLES --- variable can't to be trainable"
   ]
  },
  {
   "cell_type": "code",
   "execution_count": 8,
   "metadata": {
    "collapsed": false
   },
   "outputs": [
    {
     "data": {
      "text/plain": [
       "[<tf.Variable 'my_local:0' shape=() dtype=float32_ref>]"
      ]
     },
     "execution_count": 8,
     "metadata": {},
     "output_type": "execute_result"
    }
   ],
   "source": [
    "# tf.GraphKeys.LOCAL_VARIABLES\n",
    "my_local = tf.get_variable(\"my_local\", shape=(), collections=[tf.GraphKeys.LOCAL_VARIABLES])\n",
    "\n",
    "# or\n",
    "my_non_trainable = tf.get_variable(\"my_non_trainable\", shape=(), trainable=False)\n",
    "\n",
    "# or create a custom collection and retrieve a list of all the variables\n",
    "tf.add_to_collection(\"my_collection\", my_local)\n",
    "tf.get_collection(\"my_collection\")"
   ]
  },
  {
   "cell_type": "code",
   "execution_count": 9,
   "metadata": {
    "collapsed": false
   },
   "outputs": [
    {
     "name": "stdout",
     "output_type": "stream",
     "text": [
      "<tf.Variable 'my_local:0' shape=() dtype=float32_ref>\n"
     ]
    }
   ],
   "source": [
    "print(my_local)"
   ]
  },
  {
   "cell_type": "markdown",
   "metadata": {},
   "source": [
    "### Device placement\n",
    "Place variables on particular device\n",
    "\n",
    "wait to update。。。。。。。。。。。。。。。。。。。。。。。。。。。。。。。。。。。。。。"
   ]
  },
  {
   "cell_type": "code",
   "execution_count": 11,
   "metadata": {
    "collapsed": false
   },
   "outputs": [],
   "source": [
    "with tf.device(\"/device:CPU:0\"):\n",
    "#with tf.device(\"/device:GPU:0\"):\n",
    "    v = tf.get_variable(\"v\", [1])"
   ]
  },
  {
   "cell_type": "markdown",
   "metadata": {},
   "source": [
    "## Initializing variable\n",
    "* operation: tf.global_variable_initializer()\n",
    "* variable's initialzer\n",
    "* operation: tf.report_uninitialized_variables()\n",
    "** Note that:** tf.global_variable_initializer 初始化是无序的，变量之间有依赖有可能因为依赖的变量未初始化会出错。\n",
    "因此避免使用一个变量去初始化另外一个变量，而是采用variable.initialized_value()"
   ]
  },
  {
   "cell_type": "code",
   "execution_count": null,
   "metadata": {
    "collapsed": true
   },
   "outputs": [],
   "source": []
  }
 ],
 "metadata": {
  "anaconda-cloud": {},
  "kernelspec": {
   "display_name": "Python [conda env:dlfive]",
   "language": "python",
   "name": "conda-env-dlfive-py"
  },
  "language_info": {
   "codemirror_mode": {
    "name": "ipython",
    "version": 3
   },
   "file_extension": ".py",
   "mimetype": "text/x-python",
   "name": "python",
   "nbconvert_exporter": "python",
   "pygments_lexer": "ipython3",
   "version": "3.5.1"
  }
 },
 "nbformat": 4,
 "nbformat_minor": 1
}
